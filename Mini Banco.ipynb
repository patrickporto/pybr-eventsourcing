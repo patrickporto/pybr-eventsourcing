{
 "cells": [
  {
   "cell_type": "markdown",
   "metadata": {},
   "source": [
    "## O que é Event Sourcing?\n",
    "\n",
    "Event Sourcing garante que todo o estado de um objeto possa ser representado por um Fluxo de Eventos."
   ]
  },
  {
   "cell_type": "markdown",
   "metadata": {},
   "source": [
    "## Eventos de domínio\n",
    "\n",
    "Os eventos podem ser implementados como qualquer estrutura de dados, sendo o único requisito que o Event Store os consiga ler e escrever."
   ]
  },
  {
   "cell_type": "code",
   "execution_count": 1,
   "metadata": {},
   "outputs": [],
   "source": [
    "from collections import namedtuple\n",
    "\n",
    "BankAccountCreated = namedtuple('BankAccountCreated', ['id', 'owner'])\n",
    "DepositPerformed = namedtuple('DepositPerformed', ['id', 'amount'])\n",
    "OwnerChanged = namedtuple('OwnerChanged', ['id', 'new_owner'])\n",
    "WithdrawalPerformed = namedtuple('WithdrawalPerformed', ['id', 'amount'])\n",
    "TransferDebited = namedtuple('TransferDebited', ['id', 'amount', 'recipient_id'])\n",
    "TransferCredited = namedtuple('TransferCredited', ['id', 'amount', 'source_id'])"
   ]
  },
  {
   "cell_type": "markdown",
   "metadata": {},
   "source": [
    "## Objeto orientado a eventos\n",
    "\n",
    "Precisamos de uma classe que consiga chamar os métodos apropriados para cada evento. Os eventos precisam ser enfileirados em um fluxo de eventos."
   ]
  },
  {
   "cell_type": "code",
   "execution_count": 4,
   "metadata": {},
   "outputs": [],
   "source": [
    "class MutationMixin:\n",
    "  def __init__(self, events=None, *args, **kwargs):\n",
    "    super().__init__(*args, **kwargs)\n",
    "    if events is not None:\n",
    "      for event in events:\n",
    "        self.mutate(event)\n",
    "  \n",
    "  def mutate(self, event):\n",
    "    method_name = f'when_{event.__class__.__name__.lower()}'\n",
    "    method = getattr(self, method_name)\n",
    "    method(event)"
   ]
  },
  {
   "cell_type": "markdown",
   "metadata": {},
   "source": [
    "Agora nós precisamos definir um objeto para representar a conta, porém iremos separar a sua definição em duas classes: uma classe de alteração de estado e outra classe para comportamentos."
   ]
  },
  {
   "cell_type": "code",
   "execution_count": 3,
   "metadata": {},
   "outputs": [],
   "source": [
    "class BankAccountState(MutationMixin, ChangesMixin):\n",
    "  def when_bankaccountcreated(self, event):\n",
    "    self.id = event.id\n",
    "    self.owner = event.owner\n",
    "    self.balance = 0 \n",
    "\n",
    "  def when_depositperformed(self, event):\n",
    "    self.balance += event.amount\n",
    "\n",
    "  def when_withdrawalperformed(self, event):\n",
    "    self.balance -= event.amount\n",
    "\n",
    "  def when_ownerchanged(self, event):\n",
    "    self.owner = event.owner\n",
    "\n",
    "  def when_transferdebited(self, event):\n",
    "    self.balance -= event.amount\n",
    "\n",
    "  def when_transfercredited(self, event):\n",
    "    self.balance += event.amount"
   ]
  },
  {
   "cell_type": "markdown",
   "metadata": {},
   "source": [
    "Agora precisamos de uma classe que aplique os eventos no objeto e os armazene em uma lista interna do objeto."
   ]
  },
  {
   "cell_type": "code",
   "execution_count": 5,
   "metadata": {},
   "outputs": [],
   "source": [
    "class ChangesMixin:\n",
    "  def __init__(self, *args, **kwargs):\n",
    "    super().__init__(*args, **kwargs)\n",
    "    self.changes = []\n",
    "\n",
    "  def apply(self, event):\n",
    "    self.changes.append(event)\n",
    "    self.mutate(event)"
   ]
  },
  {
   "cell_type": "markdown",
   "metadata": {},
   "source": [
    "Agora preicaos de uma classe que contém apenas os comportamentos e suas regras de negócio."
   ]
  },
  {
   "cell_type": "code",
   "execution_count": 6,
   "metadata": {},
   "outputs": [],
   "source": [
    "from uuid import uuid4\n",
    "\n",
    "class BankAccount(BankAccountState, ChangesMixin):\n",
    "  def __repr__(self):\n",
    "    data = {\n",
    "      'id': self.id,\n",
    "      'owner': self.owner,\n",
    "      'balance': self.balance\n",
    "    }\n",
    "    return f'<BankAccount: {data}>'\n",
    "\n",
    "  def open_account(self, owner):\n",
    "    self.apply(BankAccountCreated(\n",
    "      id=uuid4(),\n",
    "      owner=owner,\n",
    "    ))\n",
    "  \n",
    "  def deposit(self, amount):\n",
    "    self.apply(DepositPerformed(\n",
    "      id=self.id,\n",
    "      amount=amount,\n",
    "    ))\n",
    "\n",
    "  def change_owner(self, new_owner):\n",
    "    self.apply(OwnerChanged(\n",
    "      id=self.id,\n",
    "      new_owner=new_owner,\n",
    "    ))\n",
    "\n",
    "  def withdraw(self, amount):\n",
    "    if self.balance - amount < 0:\n",
    "      raise ValueError(f\"'{amount}' is not available\")\n",
    "    self.apply(WithdrawalPerformed(\n",
    "      id=self.id,\n",
    "      amount=amount,\n",
    "    ))\n",
    "\n",
    "  def receive_transfer(self, amount, source):\n",
    "    self.apply(TransferCredited(\n",
    "      id=self.id,\n",
    "      amount=amount,\n",
    "      source_id=source,\n",
    "    ))\n",
    "\n",
    "  def make_transfer(self, amount, recipient):\n",
    "    if self.balance - amount < 0:\n",
    "      raise ValueError(f\"'{amount}' is not available\")\n",
    "    self.apply(TransferDebited(\n",
    "      id=self.id,\n",
    "      amount=amount,\n",
    "      recipient_id=recipient.id,\n",
    "    ))\n",
    "    recipient.receive_transfer(amount, self)"
   ]
  },
  {
   "cell_type": "markdown",
   "metadata": {},
   "source": [
    "## Event Store\n",
    "\n",
    "Agora precisamos implementar um mecanismo de armazenamento de eventos. O Armazenamento de Eventos é dividido entre duas classes: `EventStore` e `AppendOnlyStore`. O `EventStore` é uma interface entre a aplicação e o mecanismo de persistência enquanto o `AppendOnlyStore` é uma interface para o mecanismo de persistência."
   ]
  },
  {
   "cell_type": "code",
   "execution_count": 7,
   "metadata": {},
   "outputs": [],
   "source": [
    "DataWithVersion = namedtuple('DataWithVersion', ['version', 'data'])\n",
    "DataWithName = namedtuple('DataWithName', ['name', 'data'])\n",
    "\n",
    "class AppendOnlyStoreConcurrencyException(Exception):\n",
    "  def __init__(self, version, expected_version, name):\n",
    "    self.version = version\n",
    "    self.expected_version = expected_version\n",
    "    self.name = name\n",
    "    message = f\"'{expected_version}' expected but was '{version}'\"\n",
    "    super().__init__(message)\n",
    "\n",
    "class AppendOnlyStore:\n",
    "  def __init__(self, conn):\n",
    "    self.conn = conn\n",
    "\n",
    "  def append(self, name, data, expected_version=-1):\n",
    "    c = self.conn.cursor()\n",
    "    sql = \"\"\"\n",
    "    SELECT COALESCE(MAX(Version), 0)\n",
    "    FROM 'ES_Events'\n",
    "    WHERE Name = :name\n",
    "    \"\"\"\n",
    "    c.execute(sql, {'name': str(name)})\n",
    "    (version,) = c.fetchone()\n",
    "    if expected_version != -1 and version != expected_version:\n",
    "      raise AppendOnlyStoreConcurrencyException(version, expected_version, name)\n",
    "\n",
    "    txt = \"\"\"\n",
    "    INSERT INTO 'ES_Events' (Name, Version, Data)\n",
    "    VALUES(:name, :version, :data)\n",
    "    \"\"\"\n",
    "    c.execute(txt, {'name': str(name), 'version': version + 1, 'data': data})\n",
    "    c.close()\n",
    "  \n",
    "  def fetchone(self, name, after_version, max_count):\n",
    "    c = self.conn.cursor()\n",
    "    sql = \"\"\"\n",
    "    SELECT Data, Version FROM 'ES_Events'\n",
    "    WHERE Name = :name AND Version > :version\n",
    "    ORDER BY Version\n",
    "    LIMIT 0, :max_count\n",
    "    \"\"\"\n",
    "    c.execute(sql, {'name': str(name), 'version': after_version, 'max_count': max_count})\n",
    "    for row in c.fetchall():\n",
    "      data, version = row\n",
    "      yield DataWithVersion(version, data)\n",
    "    c.close()\n",
    "\n",
    "  def fetchall(self, after_version, max_count):\n",
    "    c = self.conn.cursor()\n",
    "    sql = \"\"\"\n",
    "    SELECT Data, Name FROM 'ES_Events'\n",
    "    WHERE Version > :version\n",
    "    ORDER BY Version\n",
    "    LIMIT 0, :max_count\n",
    "    \"\"\"\n",
    "    c.execute(sql, {'version': after_version, 'max_count': max_count})\n",
    "    for row in c.fetchall():\n",
    "      data, name = row\n",
    "      yield DataWithName(name, data)\n",
    "    c.close()\n",
    "\n",
    "  def close(self):\n",
    "    self.conn.close()"
   ]
  },
  {
   "cell_type": "markdown",
   "metadata": {},
   "source": [
    "O EventStore precisa de algum formato de serialização para persistir o Fluxo de Eventos (JSON, XML, Protocol Buffers…)."
   ]
  },
  {
   "cell_type": "code",
   "execution_count": 11,
   "metadata": {},
   "outputs": [],
   "source": [
    "import pickle\n",
    "\n",
    "class OptimisticConcurrencyException(Exception):\n",
    "  def __init__(self, version, expected_version, identity, events):\n",
    "    self.version = version\n",
    "    self.expected_version = expected_version\n",
    "    self.identity = identity\n",
    "    self.events = events\n",
    "    message = f\"'{expected_version}' expected but was '{version}'\"\n",
    "    super().__init__(message)\n",
    "\n",
    "class EventStream:\n",
    "  def __init__(self, version=-1, events=None):\n",
    "    self.version = version\n",
    "    if events is None:\n",
    "      self.events = []\n",
    "    else:\n",
    "      self.events = list(events)\n",
    "\n",
    "class EventStore():\n",
    "  def __init__(self, append_only_store):\n",
    "    self.append_only_store = append_only_store\n",
    "\n",
    "  def save(self, identity: str, events: list, expected_version: int = -1):\n",
    "    data = self.serialize_event(events)\n",
    "    try:\n",
    "      self.append_only_store.append(identity, data, expected_version)\n",
    "    except AppendOnlyStoreConcurrencyException as e:\n",
    "      # carrega os eventos do servidor\n",
    "      server = self.load(identity)\n",
    "      raise OptimisticConcurrencyException(server.version, e.expected_version, identity, server.events)\n",
    "\n",
    "  def load(self, identity: str, skip_events: int = 0, max_count: int = -1):\n",
    "    records = self.append_only_store.fetchone(identity, skip_events, max_count)\n",
    "    stream = EventStream()\n",
    "    for record in records:\n",
    "      stream.events.extend(self.deserialize_event(record.data))\n",
    "      stream.version = record.version\n",
    "    return stream\n",
    "\n",
    "  def serialize_event(self, event):\n",
    "    return pickle.dumps(event)\n",
    "\n",
    "  def deserialize_event(self, event):\n",
    "    return pickle.loads(event)"
   ]
  },
  {
   "cell_type": "markdown",
   "metadata": {},
   "source": [
    "Por fim, agora vamos fazer o conjunto funcionar."
   ]
  },
  {
   "cell_type": "code",
   "execution_count": 12,
   "metadata": {},
   "outputs": [
    {
     "name": "stdout",
     "output_type": "stream",
     "text": [
      "[BankAccountCreated(id=UUID('ca8fab0c-e7d1-45da-9a34-1beec980ef75'), owner='João Gabriel'), DepositPerformed(id=UUID('ca8fab0c-e7d1-45da-9a34-1beec980ef75'), amount=20000), TransferDebited(id=UUID('ca8fab0c-e7d1-45da-9a34-1beec980ef75'), amount=10000, recipient_id=UUID('e48feaf5-a5f4-4f8e-ae72-a7d8c37dd0a0'))]\n",
      "[BankAccountCreated(id=UUID('e48feaf5-a5f4-4f8e-ae72-a7d8c37dd0a0'), owner='Henrique'), DepositPerformed(id=UUID('e48feaf5-a5f4-4f8e-ae72-a7d8c37dd0a0'), amount=3000), TransferCredited(id=UUID('e48feaf5-a5f4-4f8e-ae72-a7d8c37dd0a0'), amount=10000, source_id=<BankAccount: {'id': UUID('ca8fab0c-e7d1-45da-9a34-1beec980ef75'), 'owner': 'João Gabriel', 'balance': 10000}>)]\n"
     ]
    }
   ],
   "source": [
    "import sqlite3\n",
    "\n",
    "conn = sqlite3.connect(':memory:')\n",
    "conn.execute(open('sql/events.sql', 'r').read())\n",
    "# armazenamento de eventos para acessar o fluxo de eventos\n",
    "append_only_store = AppendOnlyStore(conn)\n",
    "event_store = EventStore(append_only_store)"
   ]
  },
  {
   "cell_type": "code",
   "execution_count": 22,
   "metadata": {},
   "outputs": [
    {
     "data": {
      "text/plain": [
       "[BankAccountCreated(id=UUID('9f63d813-52cd-47b9-953f-6f1e0719aa70'), owner='João Gabriel')]"
      ]
     },
     "execution_count": 22,
     "metadata": {},
     "output_type": "execute_result"
    }
   ],
   "source": [
    "bank_account = BankAccount()\n",
    "bank_account.open_account(owner='João Gabriel')\n",
    "bank_account.changes"
   ]
  },
  {
   "cell_type": "code",
   "execution_count": 25,
   "metadata": {},
   "outputs": [
    {
     "data": {
      "text/plain": [
       "[BankAccountCreated(id=UUID('9f63d813-52cd-47b9-953f-6f1e0719aa70'), owner='João Gabriel'),\n",
       " DepositPerformed(id=UUID('9f63d813-52cd-47b9-953f-6f1e0719aa70'), amount=20),\n",
       " DepositPerformed(id=UUID('9f63d813-52cd-47b9-953f-6f1e0719aa70'), amount=20),\n",
       " DepositPerformed(id=UUID('9f63d813-52cd-47b9-953f-6f1e0719aa70'), amount=20)]"
      ]
     },
     "execution_count": 25,
     "metadata": {},
     "output_type": "execute_result"
    }
   ],
   "source": [
    "bank_account.deposit(amount=20)\n",
    "event_store.save(bank_account.id, bank_account.changes)\n",
    "bank_account.changes"
   ]
  },
  {
   "cell_type": "code",
   "execution_count": 26,
   "metadata": {},
   "outputs": [
    {
     "data": {
      "text/plain": [
       "<BankAccount: {'id': UUID('9f63d813-52cd-47b9-953f-6f1e0719aa70'), 'owner': 'João Gabriel', 'balance': 60}>"
      ]
     },
     "execution_count": 26,
     "metadata": {},
     "output_type": "execute_result"
    }
   ],
   "source": [
    "stream = event_store.load(bank_account.id)\n",
    "BankAccount(stream.events)"
   ]
  },
  {
   "cell_type": "code",
   "execution_count": null,
   "metadata": {},
   "outputs": [],
   "source": [
    "bank_account1 = BankAccount()\n",
    "bank_account1.open_account(owner='João Gabriel')\n",
    "bank_account1.changes"
   ]
  },
  {
   "cell_type": "code",
   "execution_count": 28,
   "metadata": {},
   "outputs": [
    {
     "data": {
      "text/plain": [
       "[BankAccountCreated(id=UUID('ca8fab0c-e7d1-45da-9a34-1beec980ef75'), owner='João Gabriel'),\n",
       " DepositPerformed(id=UUID('ca8fab0c-e7d1-45da-9a34-1beec980ef75'), amount=20000),\n",
       " TransferDebited(id=UUID('ca8fab0c-e7d1-45da-9a34-1beec980ef75'), amount=10000, recipient_id=UUID('e48feaf5-a5f4-4f8e-ae72-a7d8c37dd0a0')),\n",
       " DepositPerformed(id=UUID('ca8fab0c-e7d1-45da-9a34-1beec980ef75'), amount=20000),\n",
       " DepositPerformed(id=UUID('ca8fab0c-e7d1-45da-9a34-1beec980ef75'), amount=20000)]"
      ]
     },
     "execution_count": 28,
     "metadata": {},
     "output_type": "execute_result"
    }
   ],
   "source": [
    "bank_account1.deposit(amount=20000)\n",
    "bank_account1.changes"
   ]
  },
  {
   "cell_type": "code",
   "execution_count": 29,
   "metadata": {},
   "outputs": [
    {
     "data": {
      "text/plain": [
       "[BankAccountCreated(id=UUID('f1fe136a-6c73-441d-9291-a98d01f9d3b4'), owner='Henrique')]"
      ]
     },
     "execution_count": 29,
     "metadata": {},
     "output_type": "execute_result"
    }
   ],
   "source": [
    "bank_account2 = BankAccount()\n",
    "bank_account2.open_account(owner='Henrique')\n",
    "bank_account2.changes"
   ]
  },
  {
   "cell_type": "code",
   "execution_count": 30,
   "metadata": {},
   "outputs": [
    {
     "data": {
      "text/plain": [
       "[BankAccountCreated(id=UUID('f1fe136a-6c73-441d-9291-a98d01f9d3b4'), owner='Henrique'),\n",
       " DepositPerformed(id=UUID('f1fe136a-6c73-441d-9291-a98d01f9d3b4'), amount=3000)]"
      ]
     },
     "execution_count": 30,
     "metadata": {},
     "output_type": "execute_result"
    }
   ],
   "source": [
    "bank_account2.deposit(amount=3000)\n",
    "bank_account2.changes"
   ]
  },
  {
   "cell_type": "code",
   "execution_count": 33,
   "metadata": {},
   "outputs": [
    {
     "data": {
      "text/plain": [
       "([BankAccountCreated(id=UUID('ca8fab0c-e7d1-45da-9a34-1beec980ef75'), owner='João Gabriel'),\n",
       "  DepositPerformed(id=UUID('ca8fab0c-e7d1-45da-9a34-1beec980ef75'), amount=20000),\n",
       "  TransferDebited(id=UUID('ca8fab0c-e7d1-45da-9a34-1beec980ef75'), amount=10000, recipient_id=UUID('e48feaf5-a5f4-4f8e-ae72-a7d8c37dd0a0')),\n",
       "  DepositPerformed(id=UUID('ca8fab0c-e7d1-45da-9a34-1beec980ef75'), amount=20000),\n",
       "  DepositPerformed(id=UUID('ca8fab0c-e7d1-45da-9a34-1beec980ef75'), amount=20000),\n",
       "  TransferDebited(id=UUID('ca8fab0c-e7d1-45da-9a34-1beec980ef75'), amount=10000, recipient_id=UUID('f1fe136a-6c73-441d-9291-a98d01f9d3b4')),\n",
       "  TransferDebited(id=UUID('ca8fab0c-e7d1-45da-9a34-1beec980ef75'), amount=10000, recipient_id=UUID('f1fe136a-6c73-441d-9291-a98d01f9d3b4')),\n",
       "  TransferDebited(id=UUID('ca8fab0c-e7d1-45da-9a34-1beec980ef75'), amount=10000, recipient_id=UUID('f1fe136a-6c73-441d-9291-a98d01f9d3b4'))],\n",
       " [BankAccountCreated(id=UUID('f1fe136a-6c73-441d-9291-a98d01f9d3b4'), owner='Henrique'),\n",
       "  DepositPerformed(id=UUID('f1fe136a-6c73-441d-9291-a98d01f9d3b4'), amount=3000),\n",
       "  TransferCredited(id=UUID('f1fe136a-6c73-441d-9291-a98d01f9d3b4'), amount=10000, source_id=<BankAccount: {'id': UUID('ca8fab0c-e7d1-45da-9a34-1beec980ef75'), 'owner': 'João Gabriel', 'balance': 20000}>),\n",
       "  TransferCredited(id=UUID('f1fe136a-6c73-441d-9291-a98d01f9d3b4'), amount=10000, source_id=<BankAccount: {'id': UUID('ca8fab0c-e7d1-45da-9a34-1beec980ef75'), 'owner': 'João Gabriel', 'balance': 20000}>),\n",
       "  TransferCredited(id=UUID('f1fe136a-6c73-441d-9291-a98d01f9d3b4'), amount=10000, source_id=<BankAccount: {'id': UUID('ca8fab0c-e7d1-45da-9a34-1beec980ef75'), 'owner': 'João Gabriel', 'balance': 20000}>)])"
      ]
     },
     "execution_count": 33,
     "metadata": {},
     "output_type": "execute_result"
    }
   ],
   "source": [
    "bank_account1.make_transfer(10000, bank_account2)\n",
    "bank_account1.changes, bank_account2.changes"
   ]
  },
  {
   "cell_type": "code",
   "execution_count": null,
   "metadata": {},
   "outputs": [],
   "source": []
  }
 ],
 "metadata": {
  "kernelspec": {
   "display_name": "Python 3",
   "language": "python",
   "name": "python3"
  },
  "language_info": {
   "codemirror_mode": {
    "name": "ipython",
    "version": 3
   },
   "file_extension": ".py",
   "mimetype": "text/x-python",
   "name": "python",
   "nbconvert_exporter": "python",
   "pygments_lexer": "ipython3",
   "version": "3.7.0"
  }
 },
 "nbformat": 4,
 "nbformat_minor": 2
}
